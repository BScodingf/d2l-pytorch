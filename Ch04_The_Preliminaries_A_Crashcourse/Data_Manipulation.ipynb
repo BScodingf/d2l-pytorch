{
  "nbformat": 4,
  "nbformat_minor": 0,
  "metadata": {
    "kernelspec": {
      "display_name": "Python 3",
      "language": "python",
      "name": "python3"
    },
    "language_info": {
      "codemirror_mode": {
        "name": "ipython",
        "version": 3
      },
      "file_extension": ".py",
      "mimetype": "text/x-python",
      "name": "python",
      "nbconvert_exporter": "python",
      "pygments_lexer": "ipython3",
      "version": "3.6.8"
    },
    "colab": {
      "name": "Data_Manipulation.ipynb",
      "provenance": []
    }
  },
  "cells": [
    {
      "cell_type": "markdown",
      "metadata": {
        "id": "3kFvwsOwtt8u"
      },
      "source": [
        "# Data Manipulation\n",
        "\n",
        "It is impossible to get anything done if we cannot manipulate data. Generally, there are two important things we need to do with data: (i) acquire it and (ii) process it once it is inside the computer. There is no point in acquiring data if we do not even know how to store it, so let's get our hands dirty first by playing with synthetic data. We will start by introducing the tensor,\n",
        "PyTorch's primary tool for storing and transforming data. If you have worked with NumPy before, you will notice that tensors are, by design, similar to NumPy's multi-dimensional array. Tensors support asynchronous computation on CPU, GPU and provide support for automatic differentiation."
      ]
    },
    {
      "cell_type": "markdown",
      "metadata": {
        "id": "eyta6mOAtt80"
      },
      "source": [
        "## Getting Started"
      ]
    },
    {
      "cell_type": "code",
      "metadata": {
        "id": "Rn9hPIxAtt81"
      },
      "source": [
        "import torch"
      ],
      "execution_count": 1,
      "outputs": []
    },
    {
      "cell_type": "markdown",
      "metadata": {
        "id": "miAEYaQjtt83"
      },
      "source": [
        "Tensors represent (possibly multi-dimensional) arrays of numerical values.\n",
        "The simplest object we can create is a vector. To start, we can use `arange` to create a row vector with 12 consecutive integers."
      ]
    },
    {
      "cell_type": "code",
      "metadata": {
        "id": "f4RY3QwHtt83",
        "outputId": "2580df63-9104-42ea-cf25-3a8db4ab0086",
        "colab": {
          "base_uri": "https://localhost:8080/"
        }
      },
      "source": [
        "x = torch.arange(12, dtype=torch.float64)\n",
        "x"
      ],
      "execution_count": 2,
      "outputs": [
        {
          "output_type": "execute_result",
          "data": {
            "text/plain": [
              "tensor([ 0.,  1.,  2.,  3.,  4.,  5.,  6.,  7.,  8.,  9., 10., 11.],\n",
              "       dtype=torch.float64)"
            ]
          },
          "metadata": {},
          "execution_count": 2
        }
      ]
    },
    {
      "cell_type": "code",
      "metadata": {
        "id": "g8IgkvQwtt85",
        "outputId": "27080c3c-b0fc-4acd-ab65-18dc1f47591e",
        "colab": {
          "base_uri": "https://localhost:8080/"
        }
      },
      "source": [
        "# We can get the tensor shape through the shape attribute.\n",
        "x.shape"
      ],
      "execution_count": 3,
      "outputs": [
        {
          "output_type": "execute_result",
          "data": {
            "text/plain": [
              "torch.Size([12])"
            ]
          },
          "metadata": {},
          "execution_count": 3
        }
      ]
    },
    {
      "cell_type": "code",
      "metadata": {
        "scrolled": true,
        "id": "vYaIGyCott85",
        "outputId": "ca79721d-90a9-45be-ed65-a513c5e3f9d6",
        "colab": {
          "base_uri": "https://localhost:8080/"
        }
      },
      "source": [
        "# .shape is an alias for .size(), and was added to more closely match numpy\n",
        "x.size()"
      ],
      "execution_count": 4,
      "outputs": [
        {
          "output_type": "execute_result",
          "data": {
            "text/plain": [
              "torch.Size([12])"
            ]
          },
          "metadata": {},
          "execution_count": 4
        }
      ]
    },
    {
      "cell_type": "markdown",
      "metadata": {
        "id": "c-t9-Jqctt87"
      },
      "source": [
        "We use the `reshape` function to change the shape of one (possibly multi-dimensional) array, to another that contains the same number of elements.\n",
        "For example, we can transform the shape of our line vector `x` to (3, 4), which contains the same values but interprets them as a matrix containing 3 rows and 4 columns. Note that although the shape has changed, the elements in `x` have not."
      ]
    },
    {
      "cell_type": "code",
      "metadata": {
        "id": "Hi1ZVTY8tt88",
        "outputId": "8a4089e2-b704-401c-b8b7-80a145b88fb0",
        "colab": {
          "base_uri": "https://localhost:8080/"
        }
      },
      "source": [
        "x = x.reshape((3, 4))\n",
        "x"
      ],
      "execution_count": 5,
      "outputs": [
        {
          "output_type": "execute_result",
          "data": {
            "text/plain": [
              "tensor([[ 0.,  1.,  2.,  3.],\n",
              "        [ 4.,  5.,  6.,  7.],\n",
              "        [ 8.,  9., 10., 11.]], dtype=torch.float64)"
            ]
          },
          "metadata": {},
          "execution_count": 5
        }
      ]
    },
    {
      "cell_type": "markdown",
      "metadata": {
        "id": "8Js7bMI9tt89"
      },
      "source": [
        "Reshaping by manually specifying each of the dimensions can get annoying. Once we know one of the dimensions, why should we have to perform the division our selves to determine the other? For example, above, to get a matrix with 3 rows, we had to specify that it should have 4 columns (to account for the 12 elements). Fortunately, PyTorch can automatically work out one dimension given the other.\n",
        "We can invoke this capability by placing `-1` for the dimension that we would like PyTorch to automatically infer. In our case, instead of\n",
        "`x.reshape((3, 4))`, we could have equivalently used `x.reshape((-1, 4))` or `x.reshape((3, -1))`."
      ]
    },
    {
      "cell_type": "code",
      "metadata": {
        "id": "c4kG5w9Ftt89",
        "outputId": "e18b1e57-04d6-4a70-db12-dcc13497df30",
        "colab": {
          "base_uri": "https://localhost:8080/"
        }
      },
      "source": [
        "torch.FloatTensor(2, 3)"
      ],
      "execution_count": 6,
      "outputs": [
        {
          "output_type": "execute_result",
          "data": {
            "text/plain": [
              "tensor([[2.6519e-11, 3.0704e-41, 3.7835e-44],\n",
              "        [0.0000e+00,        nan, 0.0000e+00]])"
            ]
          },
          "metadata": {},
          "execution_count": 6
        }
      ]
    },
    {
      "cell_type": "code",
      "metadata": {
        "id": "lDMwcl0Qtt8-",
        "outputId": "833d8dc4-bb96-4ebe-a0bf-8cd220a9299d",
        "colab": {
          "base_uri": "https://localhost:8080/"
        }
      },
      "source": [
        "torch.Tensor(2, 3)"
      ],
      "execution_count": 7,
      "outputs": [
        {
          "output_type": "execute_result",
          "data": {
            "text/plain": [
              "tensor([[2.6519e-11, 3.0704e-41, 2.3694e-38],\n",
              "        [0.0000e+00,        nan, 0.0000e+00]])"
            ]
          },
          "metadata": {},
          "execution_count": 7
        }
      ]
    },
    {
      "cell_type": "code",
      "metadata": {
        "id": "lmpl4ulktt8-",
        "outputId": "12858e8d-0fdb-4e1a-b820-ff67dc100c75",
        "colab": {
          "base_uri": "https://localhost:8080/"
        }
      },
      "source": [
        "torch.empty(2, 3)"
      ],
      "execution_count": 8,
      "outputs": [
        {
          "output_type": "execute_result",
          "data": {
            "text/plain": [
              "tensor([[2.6519e-11, 3.0704e-41, 3.3631e-44],\n",
              "        [0.0000e+00,        nan, 0.0000e+00]])"
            ]
          },
          "metadata": {},
          "execution_count": 8
        }
      ]
    },
    {
      "cell_type": "markdown",
      "metadata": {
        "id": "-3ZlDI53tt8-"
      },
      "source": [
        "torch.Tensor() is just an alias to torch.FloatTensor() which is the default type of tensor, when no dtype is specified during tensor construction.\n",
        "\n",
        "From the torch for numpy users notes, it seems that torch.Tensor() is a drop-in replacement of numpy.empty()\n",
        "\n",
        "So, in essence torch.FloatTensor() and torch.empty() does the same job.\n",
        "\n",
        "The `empty` method just grabs some memory and hands us back a matrix without setting the values of any of its entries. This is very efficient but it means that the entries might take any arbitrary values, including very big ones! Typically, we'll want our matrices initialized either with ones, zeros, some known constant or numbers randomly sampled from a known distribution.\n",
        "\n",
        "Perhaps most often, we want an array of all zeros. To create tensor with all elements set to 0 and a shape of (2, 3, 4) we can invoke:"
      ]
    },
    {
      "cell_type": "code",
      "metadata": {
        "id": "qTaM6HfTtt8_",
        "outputId": "4ccb042d-c15e-4b69-a005-e42081f76500",
        "colab": {
          "base_uri": "https://localhost:8080/"
        }
      },
      "source": [
        "torch.zeros((2, 3, 4))"
      ],
      "execution_count": 9,
      "outputs": [
        {
          "output_type": "execute_result",
          "data": {
            "text/plain": [
              "tensor([[[0., 0., 0., 0.],\n",
              "         [0., 0., 0., 0.],\n",
              "         [0., 0., 0., 0.]],\n",
              "\n",
              "        [[0., 0., 0., 0.],\n",
              "         [0., 0., 0., 0.],\n",
              "         [0., 0., 0., 0.]]])"
            ]
          },
          "metadata": {},
          "execution_count": 9
        }
      ]
    },
    {
      "cell_type": "markdown",
      "metadata": {
        "id": "JLohJ6-Ett9A"
      },
      "source": [
        "We can create tensors with each element set to 1 works via"
      ]
    },
    {
      "cell_type": "code",
      "metadata": {
        "id": "9U4aMt6ett9A",
        "outputId": "1d61889b-129a-4238-c245-40591a562047",
        "colab": {
          "base_uri": "https://localhost:8080/"
        }
      },
      "source": [
        "torch.ones((2, 3, 4))"
      ],
      "execution_count": 10,
      "outputs": [
        {
          "output_type": "execute_result",
          "data": {
            "text/plain": [
              "tensor([[[1., 1., 1., 1.],\n",
              "         [1., 1., 1., 1.],\n",
              "         [1., 1., 1., 1.]],\n",
              "\n",
              "        [[1., 1., 1., 1.],\n",
              "         [1., 1., 1., 1.],\n",
              "         [1., 1., 1., 1.]]])"
            ]
          },
          "metadata": {},
          "execution_count": 10
        }
      ]
    },
    {
      "cell_type": "markdown",
      "metadata": {
        "id": "2S8gkjsott9B"
      },
      "source": [
        "We can also specify the value of each element in the desired NDArray by supplying a Python list containing the numerical values."
      ]
    },
    {
      "cell_type": "code",
      "metadata": {
        "id": "o-trgxDmtt9B",
        "outputId": "95fcad52-3395-4a67-9d29-3e6b9fbbd5c3",
        "colab": {
          "base_uri": "https://localhost:8080/"
        }
      },
      "source": [
        "y = torch.tensor([[2, 1, 4, 3], [1, 2, 3, 4], [4, 3, 2, 1]])\n",
        "y"
      ],
      "execution_count": 11,
      "outputs": [
        {
          "output_type": "execute_result",
          "data": {
            "text/plain": [
              "tensor([[2, 1, 4, 3],\n",
              "        [1, 2, 3, 4],\n",
              "        [4, 3, 2, 1]])"
            ]
          },
          "metadata": {},
          "execution_count": 11
        }
      ]
    },
    {
      "cell_type": "markdown",
      "metadata": {
        "id": "DJy6LWKstt9B"
      },
      "source": [
        "In some cases, we will want to randomly sample the values of each element in the tensor according to some known probability distribution. This is especially common when we intend to use the tensor as a parameter in a neural network. The following snippet creates an tensor with a shape of (3,4). Each of its elements is randomly sampled in a normal distribution with zero mean and unit variance."
      ]
    },
    {
      "cell_type": "code",
      "metadata": {
        "id": "Y552VuCwtt9B",
        "outputId": "1fd2c818-1f00-40f7-b2ba-820f07f4c0ce",
        "colab": {
          "base_uri": "https://localhost:8080/"
        }
      },
      "source": [
        "torch.randn(3, 4)"
      ],
      "execution_count": 12,
      "outputs": [
        {
          "output_type": "execute_result",
          "data": {
            "text/plain": [
              "tensor([[ 0.0374, -0.2760,  0.7188, -1.1671],\n",
              "        [-0.7804, -1.6025, -0.2721, -0.0135],\n",
              "        [ 0.3318, -1.2199,  0.5424, -0.3309]])"
            ]
          },
          "metadata": {},
          "execution_count": 12
        }
      ]
    },
    {
      "cell_type": "markdown",
      "metadata": {
        "id": "QMOkL82htt9C"
      },
      "source": [
        "## Operations\n",
        "\n",
        "Oftentimes, we want to apply functions to arrays. Some of the simplest and most useful functions are the element-wise functions. These operate by performing a single scalar operation on the corresponding elements of two arrays. We can create an element-wise function from any function that maps from the scalars to the scalars. In math notations we would denote such a function as $f: \\mathbb{R} \\rightarrow \\mathbb{R}$. Given any two vectors $\\mathbf{u}$ and $\\mathbf{v}$ *of the same shape*, and the function f,\n",
        "we can produce a vector $\\mathbf{c} = F(\\mathbf{u},\\mathbf{v})$ by setting $c_i \\gets f(u_i, v_i)$ for all $i$. Here, we produced the vector-valued $F: \\mathbb{R}^d \\rightarrow \\mathbb{R}^d$ by *lifting* the scalar function to an element-wise vector operation. In PyTorch, the common standard arithmetic operators (+,-,/,\\*,\\*\\*) have all been *lifted* to element-wise operations for identically-shaped tensors of arbitrary shape. We can call element-wise operations on any two tensors of the same shape, including matrices."
      ]
    },
    {
      "cell_type": "code",
      "metadata": {
        "id": "gd1mLZ78tt9C",
        "outputId": "3b75c552-c4ab-45f9-b661-ec309f58eb98",
        "colab": {
          "base_uri": "https://localhost:8080/"
        }
      },
      "source": [
        "x = torch.tensor([1, 2, 4, 8], dtype=torch.float32)\n",
        "y = torch.ones_like(x) * 2\n",
        "print('x =', x)\n",
        "print('x + y', x + y)\n",
        "print('x - y', x - y)\n",
        "print('x * y', x * y)\n",
        "print('x / y', x / y)"
      ],
      "execution_count": 13,
      "outputs": [
        {
          "output_type": "stream",
          "name": "stdout",
          "text": [
            "x = tensor([1., 2., 4., 8.])\n",
            "x + y tensor([ 3.,  4.,  6., 10.])\n",
            "x - y tensor([-1.,  0.,  2.,  6.])\n",
            "x * y tensor([ 2.,  4.,  8., 16.])\n",
            "x / y tensor([0.5000, 1.0000, 2.0000, 4.0000])\n"
          ]
        }
      ]
    },
    {
      "cell_type": "markdown",
      "metadata": {
        "id": "YYqWBqk-tt9C"
      },
      "source": [
        "Many more operations can be applied element-wise, such as exponentiation:"
      ]
    },
    {
      "cell_type": "code",
      "metadata": {
        "id": "Rj7dE0e4tt9C",
        "outputId": "1a205203-dba0-4393-b99d-415818072b84",
        "colab": {
          "base_uri": "https://localhost:8080/"
        }
      },
      "source": [
        "torch.exp(x)\n",
        "# Note: torch.exp is not implemented for 'torch.LongTensor'."
      ],
      "execution_count": 14,
      "outputs": [
        {
          "output_type": "execute_result",
          "data": {
            "text/plain": [
              "tensor([2.7183e+00, 7.3891e+00, 5.4598e+01, 2.9810e+03])"
            ]
          },
          "metadata": {},
          "execution_count": 14
        }
      ]
    },
    {
      "cell_type": "markdown",
      "metadata": {
        "id": "OwROBDvatt9D"
      },
      "source": [
        "In addition to computations by element, we can also perform matrix operations, like matrix multiplication using the `mm` or `matmul` function. Next, we will perform matrix multiplication of `x` and the transpose of `y`. We define `x` as a matrix of 3 rows and 4 columns, and `y` is transposed into a matrix of 4 rows and 3 columns. The two matrices are multiplied to obtain a matrix of 3 rows and 3 columns."
      ]
    },
    {
      "cell_type": "code",
      "metadata": {
        "id": "ysU1rfVQtt9D",
        "outputId": "367d06bb-b0a8-4336-b48b-bedefc30b6d1",
        "colab": {
          "base_uri": "https://localhost:8080/"
        }
      },
      "source": [
        "x = torch.arange(12, dtype=torch.float32).reshape((3,4))\n",
        "y = torch.tensor([[2, 1, 4, 3], [1, 2, 3, 4], [4, 3, 2, 1]], dtype=torch.float32)\n",
        "print(x.dtype)\n",
        "print(y)\n",
        "torch.mm(x, y.t())"
      ],
      "execution_count": 15,
      "outputs": [
        {
          "output_type": "stream",
          "name": "stdout",
          "text": [
            "torch.float32\n",
            "tensor([[2., 1., 4., 3.],\n",
            "        [1., 2., 3., 4.],\n",
            "        [4., 3., 2., 1.]])\n"
          ]
        },
        {
          "output_type": "execute_result",
          "data": {
            "text/plain": [
              "tensor([[ 18.,  20.,  10.],\n",
              "        [ 58.,  60.,  50.],\n",
              "        [ 98., 100.,  90.]])"
            ]
          },
          "metadata": {},
          "execution_count": 15
        }
      ]
    },
    {
      "cell_type": "markdown",
      "metadata": {
        "id": "EzrS1INmtt9D"
      },
      "source": [
        "Note that torch.dot() behaves differently to np.dot(). There's been some discussion about what would be desirable here. Specifically, torch.dot() treats both a and b as 1D vectors (irrespective of their original shape) and computes their inner product. "
      ]
    },
    {
      "cell_type": "markdown",
      "metadata": {
        "id": "fUD_tOQDtt9D"
      },
      "source": [
        "We can also merge multiple tensors. For that, we need to tell the system along which dimension to merge. The example below merges two matrices along dimension 0 (along rows) and dimension 1 (along columns) respectively."
      ]
    },
    {
      "cell_type": "code",
      "metadata": {
        "id": "jWkANgjXtt9D",
        "outputId": "0ded388f-8cbd-487b-a1ea-f24845ae4f15",
        "colab": {
          "base_uri": "https://localhost:8080/"
        }
      },
      "source": [
        "torch.cat((x, y), dim=0)"
      ],
      "execution_count": 16,
      "outputs": [
        {
          "output_type": "execute_result",
          "data": {
            "text/plain": [
              "tensor([[ 0.,  1.,  2.,  3.],\n",
              "        [ 4.,  5.,  6.,  7.],\n",
              "        [ 8.,  9., 10., 11.],\n",
              "        [ 2.,  1.,  4.,  3.],\n",
              "        [ 1.,  2.,  3.,  4.],\n",
              "        [ 4.,  3.,  2.,  1.]])"
            ]
          },
          "metadata": {},
          "execution_count": 16
        }
      ]
    },
    {
      "cell_type": "code",
      "metadata": {
        "id": "uutHkzUjtt9D",
        "outputId": "c6a61794-639d-45ef-e0eb-0ccfc08c669b",
        "colab": {
          "base_uri": "https://localhost:8080/"
        }
      },
      "source": [
        "torch.cat((x, y), dim=1)"
      ],
      "execution_count": 17,
      "outputs": [
        {
          "output_type": "execute_result",
          "data": {
            "text/plain": [
              "tensor([[ 0.,  1.,  2.,  3.,  2.,  1.,  4.,  3.],\n",
              "        [ 4.,  5.,  6.,  7.,  1.,  2.,  3.,  4.],\n",
              "        [ 8.,  9., 10., 11.,  4.,  3.,  2.,  1.]])"
            ]
          },
          "metadata": {},
          "execution_count": 17
        }
      ]
    },
    {
      "cell_type": "markdown",
      "metadata": {
        "id": "TPDVD8dAtt9D"
      },
      "source": [
        "Sometimes, we may want to construct binary tensors via logical statements. Take `x == y` as an example. If `x` and `y` are equal for some entry, the new tensor has a value of 1 at the same position; otherwise it is 0."
      ]
    },
    {
      "cell_type": "code",
      "metadata": {
        "id": "ECN_vAVBtt9E",
        "outputId": "d78441a5-a231-438e-c12e-4384533ad409",
        "colab": {
          "base_uri": "https://localhost:8080/"
        }
      },
      "source": [
        "x == y"
      ],
      "execution_count": 18,
      "outputs": [
        {
          "output_type": "execute_result",
          "data": {
            "text/plain": [
              "tensor([[False,  True, False,  True],\n",
              "        [False, False, False, False],\n",
              "        [False, False, False, False]])"
            ]
          },
          "metadata": {},
          "execution_count": 18
        }
      ]
    },
    {
      "cell_type": "code",
      "metadata": {
        "id": "jO708QmqLyI9",
        "outputId": "db81f519-8dde-44d4-b4e6-819882c68204",
        "colab": {
          "base_uri": "https://localhost:8080/"
        }
      },
      "source": [
        "x < y"
      ],
      "execution_count": 19,
      "outputs": [
        {
          "output_type": "execute_result",
          "data": {
            "text/plain": [
              "tensor([[ True, False,  True, False],\n",
              "        [False, False, False, False],\n",
              "        [False, False, False, False]])"
            ]
          },
          "metadata": {},
          "execution_count": 19
        }
      ]
    },
    {
      "cell_type": "code",
      "metadata": {
        "id": "Vm0VanTzL0HV",
        "outputId": "b413b673-150d-4841-bc4f-da988ed8a76c",
        "colab": {
          "base_uri": "https://localhost:8080/"
        }
      },
      "source": [
        "x > y"
      ],
      "execution_count": 20,
      "outputs": [
        {
          "output_type": "execute_result",
          "data": {
            "text/plain": [
              "tensor([[False, False, False, False],\n",
              "        [ True,  True,  True,  True],\n",
              "        [ True,  True,  True,  True]])"
            ]
          },
          "metadata": {},
          "execution_count": 20
        }
      ]
    },
    {
      "cell_type": "markdown",
      "metadata": {
        "id": "J35kciqmtt9E"
      },
      "source": [
        "Summing all the elements in the tensor yields an tensor with only one element."
      ]
    },
    {
      "cell_type": "code",
      "metadata": {
        "id": "ZKzX-oaCtt9E",
        "outputId": "be30f823-fe37-43ea-8f8a-131db0cf8f34",
        "colab": {
          "base_uri": "https://localhost:8080/"
        }
      },
      "source": [
        "x.sum()"
      ],
      "execution_count": 21,
      "outputs": [
        {
          "output_type": "execute_result",
          "data": {
            "text/plain": [
              "tensor(66.)"
            ]
          },
          "metadata": {},
          "execution_count": 21
        }
      ]
    },
    {
      "cell_type": "markdown",
      "metadata": {
        "id": "GgLs3-KQtt9E"
      },
      "source": [
        "We can transform the result into a scalar in Python using the `asscalar` function of `numpy`(from numpy v1.16 onwards it issues a deprication warning. We can ignore that at this moment). In the following example, the $\\ell_2$ norm of `x` yields a single element tensor. The final result is transformed into a scalar."
      ]
    },
    {
      "cell_type": "code",
      "metadata": {
        "id": "VXaNZhtbtt9E",
        "outputId": "35731066-db92-404d-9e4f-d9117be701cd",
        "colab": {
          "base_uri": "https://localhost:8080/"
        }
      },
      "source": [
        "import numpy as np\n",
        "np.asscalar(x.norm())"
      ],
      "execution_count": 22,
      "outputs": [
        {
          "output_type": "stream",
          "name": "stderr",
          "text": [
            "/usr/local/lib/python3.7/dist-packages/ipykernel_launcher.py:2: DeprecationWarning: np.asscalar(a) is deprecated since NumPy v1.16, use a.item() instead\n",
            "  \n"
          ]
        },
        {
          "output_type": "execute_result",
          "data": {
            "text/plain": [
              "22.494443893432617"
            ]
          },
          "metadata": {},
          "execution_count": 22
        }
      ]
    },
    {
      "cell_type": "markdown",
      "metadata": {
        "id": "odgohox_tt9E"
      },
      "source": [
        "## Broadcast Mechanism\n",
        "\n",
        "In the above section, we saw how to perform operations on two tensors of the same shape. When their shapes differ, a broadcasting mechanism may be triggered analogous to NumPy: first, copy the elements appropriately so that the two tensors have the same shape, and then carry out operations by element."
      ]
    },
    {
      "cell_type": "code",
      "metadata": {
        "id": "fPoKku5ttt9E",
        "outputId": "ccae0494-c3c8-4271-b9f9-bf714607b23b",
        "colab": {
          "base_uri": "https://localhost:8080/"
        }
      },
      "source": [
        "a = torch.arange(6, dtype=torch.float).reshape((3, 1, 2))\n",
        "b = torch.arange(6, dtype=torch.float).reshape((1, 3, 2))\n",
        "a, b"
      ],
      "execution_count": 23,
      "outputs": [
        {
          "output_type": "execute_result",
          "data": {
            "text/plain": [
              "(tensor([[[0., 1.]],\n",
              " \n",
              "         [[2., 3.]],\n",
              " \n",
              "         [[4., 5.]]]), tensor([[[0., 1.],\n",
              "          [2., 3.],\n",
              "          [4., 5.]]]))"
            ]
          },
          "metadata": {},
          "execution_count": 23
        }
      ]
    },
    {
      "cell_type": "markdown",
      "metadata": {
        "id": "6AoY2kaStt9F"
      },
      "source": [
        "Since `a` and `b` are (3x1) and (1x2) matrices respectively, their shapes do not match up if we want to add them. PyTorch addresses this by 'broadcasting' the entries of both matrices into a larger (3x2) matrix as follows: for matrix `a` it replicates the columns, for matrix `b` it replicates the rows before adding up both element-wise."
      ]
    },
    {
      "cell_type": "code",
      "metadata": {
        "id": "35eZ_NLvtt9F",
        "outputId": "9ea0c24a-6d53-4803-b272-32215b89e1dc",
        "colab": {
          "base_uri": "https://localhost:8080/"
        }
      },
      "source": [
        "a + b"
      ],
      "execution_count": 24,
      "outputs": [
        {
          "output_type": "execute_result",
          "data": {
            "text/plain": [
              "tensor([[[ 0.,  2.],\n",
              "         [ 2.,  4.],\n",
              "         [ 4.,  6.]],\n",
              "\n",
              "        [[ 2.,  4.],\n",
              "         [ 4.,  6.],\n",
              "         [ 6.,  8.]],\n",
              "\n",
              "        [[ 4.,  6.],\n",
              "         [ 6.,  8.],\n",
              "         [ 8., 10.]]])"
            ]
          },
          "metadata": {},
          "execution_count": 24
        }
      ]
    },
    {
      "cell_type": "markdown",
      "metadata": {
        "id": "XLKjJpBott9F"
      },
      "source": [
        "## Indexing and Slicing\n",
        "\n",
        "Just like in any other Python array, elements in a tensor can be accessed by its index. In good Python tradition the first element has index 0 and ranges are specified to include the first but not the last element. By this logic `1:3` selects the second and third element. Let's try this out by selecting the respective rows in a matrix."
      ]
    },
    {
      "cell_type": "code",
      "metadata": {
        "id": "r3r9M8sstt9F",
        "outputId": "f9815a94-94d1-41b3-d1e2-d4a851fefd5b",
        "colab": {
          "base_uri": "https://localhost:8080/"
        }
      },
      "source": [
        "x[1:3]"
      ],
      "execution_count": 25,
      "outputs": [
        {
          "output_type": "execute_result",
          "data": {
            "text/plain": [
              "tensor([[ 4.,  5.,  6.,  7.],\n",
              "        [ 8.,  9., 10., 11.]])"
            ]
          },
          "metadata": {},
          "execution_count": 25
        }
      ]
    },
    {
      "cell_type": "markdown",
      "metadata": {
        "id": "_B0mt0DYtt9F"
      },
      "source": [
        "Beyond reading, we can also write elements of a matrix."
      ]
    },
    {
      "cell_type": "code",
      "metadata": {
        "id": "7iUehTOxtt9F",
        "outputId": "a9731bc0-1e60-4cad-a932-268e60d50fe7",
        "colab": {
          "base_uri": "https://localhost:8080/"
        }
      },
      "source": [
        "x[1, 2] = 9\n",
        "x"
      ],
      "execution_count": 26,
      "outputs": [
        {
          "output_type": "execute_result",
          "data": {
            "text/plain": [
              "tensor([[ 0.,  1.,  2.,  3.],\n",
              "        [ 4.,  5.,  9.,  7.],\n",
              "        [ 8.,  9., 10., 11.]])"
            ]
          },
          "metadata": {},
          "execution_count": 26
        }
      ]
    },
    {
      "cell_type": "markdown",
      "metadata": {
        "id": "WLXrxtpltt9F"
      },
      "source": [
        "If we want to assign multiple elements the same value, we simply index all of them and then assign them the value. For instance, `[0:2, :]` accesses the first and second rows. While we discussed indexing for matrices, this obviously also works for vectors and for tensors of more than 2 dimensions."
      ]
    },
    {
      "cell_type": "code",
      "metadata": {
        "id": "NpOPh4xftt9G",
        "outputId": "2aea6bcb-db99-44fb-fe5c-8fb7e3e52b13",
        "colab": {
          "base_uri": "https://localhost:8080/"
        }
      },
      "source": [
        "x[0:2, :] = 12\n",
        "x"
      ],
      "execution_count": 27,
      "outputs": [
        {
          "output_type": "execute_result",
          "data": {
            "text/plain": [
              "tensor([[12., 12., 12., 12.],\n",
              "        [12., 12., 12., 12.],\n",
              "        [ 8.,  9., 10., 11.]])"
            ]
          },
          "metadata": {},
          "execution_count": 27
        }
      ]
    },
    {
      "cell_type": "markdown",
      "metadata": {
        "id": "7pe8JqtLtt9G"
      },
      "source": [
        "## Saving Memory\n",
        "\n",
        "In the previous example, every time we ran an operation, we allocated new memory to host its results. For example, if we write `y = x + y`, we will dereference the matrix that `y` used to point to and instead point it at the newly allocated memory. In the following example we demonstrate this with Python's `id()` function, which gives us the exact address of the referenced object in memory. After running `y = y + x`, we will find that `id(y)` points to a different location. That is because Python first evaluates `y + x`, allocating new memory for the result and then subsequently redirects `y` to point at this new location in memory."
      ]
    },
    {
      "cell_type": "code",
      "metadata": {
        "id": "qAxcxAiRtt9G",
        "outputId": "f6cdb94c-5758-48e5-a91b-b8f7e604d0cb",
        "colab": {
          "base_uri": "https://localhost:8080/"
        }
      },
      "source": [
        "before = id(y)\n",
        "y = y + x\n",
        "id(y) == before"
      ],
      "execution_count": 28,
      "outputs": [
        {
          "output_type": "execute_result",
          "data": {
            "text/plain": [
              "False"
            ]
          },
          "metadata": {},
          "execution_count": 28
        }
      ]
    },
    {
      "cell_type": "markdown",
      "metadata": {
        "id": "CmeVoSMHtt9G"
      },
      "source": [
        "This might be undesirable for two reasons. First, we do not want to run around allocating memory unnecessarily all the time. In machine learning, we might have hundreds of megabytes of parameters and update all of them multiple times per second. Typically, we will want to perform these updates *in place*. Second, we might point at the same parameters from multiple variables. If we do not update in place, this could cause a memory leak, making it possible for us to inadvertently reference stale parameters.\n",
        "\n",
        "Fortunately, performing in-place operations in PyTorch is easy. We can assign the result of an operation to a previously allocated array with slice notation, e.g., `y[:] = <expression>`. To illustrate the behavior, we first clone the shape of a matrix using `zeros_like` to allocate a block of 0 entries."
      ]
    },
    {
      "cell_type": "code",
      "metadata": {
        "id": "2N0Du3y0tt9G",
        "outputId": "73e41632-0d80-4250-891b-b3931e8a10be",
        "colab": {
          "base_uri": "https://localhost:8080/"
        }
      },
      "source": [
        "z = torch.zeros_like(y)\n",
        "print('id(z):', id(z))\n",
        "z[:] = x + y\n",
        "print('id(z):', id(z))"
      ],
      "execution_count": 29,
      "outputs": [
        {
          "output_type": "stream",
          "name": "stdout",
          "text": [
            "id(z): 140701309674832\n",
            "id(z): 140701309674832\n"
          ]
        }
      ]
    },
    {
      "cell_type": "markdown",
      "metadata": {
        "id": "R5oYULP9tt9G"
      },
      "source": [
        "While this looks pretty, `x+y` here will still allocate a temporary buffer to store the result of `x+y` before copying it to `z[:]`. To make even better use of memory, we can directly invoke the underlying `tensor` operation, in this case `add`, avoiding temporary buffers. We do this by specifying the `out` keyword argument, which every `tensor` operator supports:"
      ]
    },
    {
      "cell_type": "code",
      "metadata": {
        "id": "9DsVYxgTtt9G",
        "outputId": "a9f2a270-fc62-401f-c185-485547ff1cc4",
        "colab": {
          "base_uri": "https://localhost:8080/"
        }
      },
      "source": [
        "before = id(z)\n",
        "torch.add(x, y, out=z)\n",
        "id(z) == before"
      ],
      "execution_count": 30,
      "outputs": [
        {
          "output_type": "execute_result",
          "data": {
            "text/plain": [
              "True"
            ]
          },
          "metadata": {},
          "execution_count": 30
        }
      ]
    },
    {
      "cell_type": "markdown",
      "metadata": {
        "id": "BXKcHAsgtt9H"
      },
      "source": [
        "If the value of `x ` is not reused in subsequent computations, we can also use `x[:] = x + y` or `x += y` to reduce the memory overhead of the operation."
      ]
    },
    {
      "cell_type": "code",
      "metadata": {
        "id": "_R1hG073tt9H",
        "outputId": "aeb9324c-8e55-401f-e383-2ef4cd7e1b5e",
        "colab": {
          "base_uri": "https://localhost:8080/"
        }
      },
      "source": [
        "before = id(x)\n",
        "x += y\n",
        "id(x) == before"
      ],
      "execution_count": 31,
      "outputs": [
        {
          "output_type": "execute_result",
          "data": {
            "text/plain": [
              "True"
            ]
          },
          "metadata": {},
          "execution_count": 31
        }
      ]
    },
    {
      "cell_type": "markdown",
      "metadata": {
        "id": "uufoIdfhtt9H"
      },
      "source": [
        "## Mutual Transformation of PyTorch and NumPy\n",
        "\n",
        "Converting PyTorch Tensors to and from NumPy Arrays is easy. The converted arrays do *not* share memory. This minor inconvenience is actually quite important: when you perform operations on the CPU or one of the GPUs, you do not want PyTorch having to wait whether NumPy might want to be doing something else with the same chunk of memory. `.tensor` and `.numpy` do the trick."
      ]
    },
    {
      "cell_type": "code",
      "metadata": {
        "id": "l8SkvcxUtt9H",
        "outputId": "a073f69b-b010-4228-9cd8-28fe4d87e067",
        "colab": {
          "base_uri": "https://localhost:8080/"
        }
      },
      "source": [
        "a = x.numpy()\n",
        "print(type(a))\n",
        "b = torch.tensor(a)\n",
        "print(type(b))"
      ],
      "execution_count": 32,
      "outputs": [
        {
          "output_type": "stream",
          "name": "stdout",
          "text": [
            "<class 'numpy.ndarray'>\n",
            "<class 'torch.Tensor'>\n"
          ]
        }
      ]
    },
    {
      "cell_type": "markdown",
      "metadata": {
        "id": "By1uV9SPtt9H"
      },
      "source": [
        "## Exercises\n",
        "\n",
        "1. Run the code in this section. Change the conditional statement `x == y` in this section to `x < y` or `x > y`, and then see what kind of tensor you can get.\n",
        "1. Replace the two tensors that operate by element in the broadcast mechanism with other shapes, e.g. three dimensional tensors. Is the result the same as expected?\n",
        "1. Assume that we have three matrices `a`, `b` and `c`. Rewrite `c = torch.mm(a, b.t()) + c` in the most memory efficient manner."
      ]
    },
    {
      "cell_type": "markdown",
      "metadata": {
        "id": "MgJkkq1S4pyZ"
      },
      "source": [
        "## Anwers\n"
      ]
    },
    {
      "cell_type": "markdown",
      "metadata": {
        "id": "W1ABR5rb5Eye"
      },
      "source": [
        " 1. Check the code above. "
      ]
    },
    {
      "cell_type": "markdown",
      "metadata": {
        "id": "kX1EC_sw5Ikz"
      },
      "source": [
        "2. Check the code above. The result is the same as expected.\n"
      ]
    },
    {
      "cell_type": "markdown",
      "metadata": {
        "id": "wnZ3oxpz5ND7"
      },
      "source": [
        "3. \n",
        "\n",
        "```\n",
        "x = torch.zeros_like(c)\n",
        "torch.mm(a, b.t(), out=x)\n",
        "c += x\n",
        "```"
      ]
    }
  ]
}